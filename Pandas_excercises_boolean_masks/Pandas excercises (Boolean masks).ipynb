{
 "cells": [
  {
   "cell_type": "markdown",
   "metadata": {
    "deletable": false,
    "etc_identifier": "373a3605-5bda-4e1f-beef-04a0173d3f41",
    "nbgrader": {
     "cell_type": "markdown",
     "checksum": "ea942292eff37b50f364f842bcdd8ad9",
     "grade": false,
     "grade_id": "cell-a839e7b47494b4c3",
     "locked": true,
     "schema_version": 3,
     "solution": false
    },
    "tags": []
   },
   "source": [
    "# Pandas excercises (Boolean masks)\n",
    "## data: [assets/NISPUF17.csv](assets/NISPUF17.csv)\n",
    "- 2017 data on immunizations from the CDC"
   ]
  },
  {
   "cell_type": "code",
   "execution_count": 6,
   "metadata": {},
   "outputs": [],
   "source": [
    "import pandas as pd\n",
    "df = pd.read_csv('assets/NISPUF17.csv', index_col = 1)"
   ]
  },
  {
   "cell_type": "markdown",
   "metadata": {
    "deletable": false,
    "hideCode": false,
    "hidePrompt": false,
    "nbgrader": {
     "cell_type": "markdown",
     "checksum": "f85bd44672080d80abd2a7f47aa0f1be",
     "grade": false,
     "grade_id": "cell-58fc2e5938733f6a",
     "locked": true,
     "schema_version": 3,
     "solution": false
    },
    "tags": []
   },
   "source": [
    "## `proportion_of_education` \n",
    "Function that returns the proportion of children in the dataset who had a mother with the education levels equal to less than high school (<12), high school (12), more than high school but not a college graduate (>12) and college degree.\n"
   ]
  },
  {
   "cell_type": "code",
   "execution_count": 7,
   "metadata": {
    "deletable": false,
    "nbgrader": {
     "cell_type": "code",
     "checksum": "0ac58deb3f5ac988c643e903cbee7f3a",
     "grade": false,
     "grade_id": "cell-eea16d020eb52ae7",
     "locked": false,
     "schema_version": 3,
     "solution": true
    }
   },
   "outputs": [],
   "source": [
    "def proportion_of_education():\n",
    "    total = len(df.index)\n",
    "    results = {}\n",
    "    \n",
    "    #less than hg\n",
    "    less_hg_mask = df['EDUC1'] == 1 \n",
    "    results['less than high school'] = len(df[less_hg_mask].index) / total\n",
    "    \n",
    "    #hg\n",
    "    hg_mask = df['EDUC1'] == 2\n",
    "    results['high school'] = len(df[hg_mask].index) / total\n",
    "    \n",
    "    #more than high school but not college\n",
    "    more_hg_mask = df['EDUC1'] == 3\n",
    "    results['more than high school but not college'] = len(df[more_hg_mask].index) / total\n",
    "    \n",
    "    #college\n",
    "    college_mask = df['EDUC1'] == 4\n",
    "    results['college'] = len(df[college_mask ].index) / total\n",
    "    \n",
    "    return results\n",
    "\n",
    "    "
   ]
  },
  {
   "cell_type": "code",
   "execution_count": 8,
   "metadata": {
    "deletable": false,
    "hideCode": false,
    "hidePrompt": false,
    "nbgrader": {
     "cell_type": "code",
     "checksum": "ac5d91a24a7f72f66c25d242c3d24a50",
     "grade": true,
     "grade_id": "cell-c0eeef201366f51c",
     "locked": true,
     "points": 1,
     "schema_version": 3,
     "solution": false
    },
    "tags": []
   },
   "outputs": [
    {
     "name": "stdout",
     "output_type": "stream",
     "text": [
      "{'less than high school': 0.10202002459160373, 'high school': 0.172352011241876, 'more than high school but not college': 0.24588090637625154, 'college': 0.47974705779026877}\n"
     ]
    }
   ],
   "source": [
    "print(proportion_of_education())"
   ]
  },
  {
   "cell_type": "markdown",
   "metadata": {
    "deletable": false,
    "nbgrader": {
     "cell_type": "markdown",
     "checksum": "562b78b7b9b79580269be0a3bebf4b42",
     "grade": false,
     "grade_id": "cell-8fcbb64516283f52",
     "locked": true,
     "schema_version": 3,
     "solution": false
    },
    "tags": []
   },
   "source": [
    "## Exploring the relationship between being fed breastmilk as a child and getting a seasonal influenza vaccine\n",
    "\n",
    "Returns a tuple of the average number of influenza vaccines for those children we know received breastmilk as a child and those who know did not.\n"
   ]
  },
  {
   "cell_type": "code",
   "execution_count": 11,
   "metadata": {
    "deletable": false,
    "nbgrader": {
     "cell_type": "code",
     "checksum": "a405d639063c4a6408365479f29c95c9",
     "grade": false,
     "grade_id": "cell-77f18c512324eabb",
     "locked": false,
     "schema_version": 3,
     "solution": true
    }
   },
   "outputs": [],
   "source": [
    "def average_influenza_doses():\n",
    "    #breast fed\n",
    "    breast_fed_mask = df['CBF_01'] == 1\n",
    "    population = len(df[breast_fed_mask].index)\n",
    "    bf_average_influenza_shots = df[breast_fed_mask]['P_NUMFLU'].sum()/population\n",
    "    \n",
    "    #not bf\n",
    "    not_breast_fed_mask = df['CBF_01'] == 2\n",
    "    population = len(df[not_breast_fed_mask].index)\n",
    "    not_bf_average_influenza_shots = df[not_breast_fed_mask]['P_NUMFLU'].sum()/population\n",
    "    \n",
    "    return(bf_average_influenza_shots, not_bf_average_influenza_shots)\n"
   ]
  },
  {
   "cell_type": "code",
   "execution_count": 12,
   "metadata": {
    "deletable": false,
    "nbgrader": {
     "cell_type": "code",
     "checksum": "19be955e97fdf7162d43fbb7c2c40951",
     "grade": true,
     "grade_id": "cell-54a3ba6cff31caa7",
     "locked": true,
     "points": 1,
     "schema_version": 3,
     "solution": false
    },
    "tags": []
   },
   "outputs": [
    {
     "name": "stdout",
     "output_type": "stream",
     "text": [
      "(1.0298833518816206, 0.7804161566707466)\n"
     ]
    }
   ],
   "source": [
    "print(average_influenza_doses())"
   ]
  },
  {
   "cell_type": "markdown",
   "metadata": {
    "deletable": false,
    "nbgrader": {
     "cell_type": "markdown",
     "checksum": "e10e2163f5957a0c398ef4f0b76b4efe",
     "grade": false,
     "grade_id": "cell-f63377f3c97aa7c4",
     "locked": true,
     "schema_version": 3,
     "solution": false
    },
    "tags": []
   },
   "source": [
    "## Is there a link btw vaccine effectiveness and sex of the child?\n",
    "Calculates the ratio of the number of children who contracted chickenpox but were vaccinated against it (at least one varicella dose) versus those who were vaccinated but did not contract chicken pox. Returns results by sex. \n"
   ]
  },
  {
   "cell_type": "code",
   "execution_count": 14,
   "metadata": {
    "deletable": false,
    "nbgrader": {
     "cell_type": "code",
     "checksum": "b4d1b58acae002bc73eb0b19f95bc4af",
     "grade": false,
     "grade_id": "cell-a0a9e6fe67698006",
     "locked": false,
     "schema_version": 3,
     "solution": true
    }
   },
   "outputs": [],
   "source": [
    "def chickenpox_by_sex():\n",
    "    results = {}\n",
    "    \n",
    "    #male and vaccinated\n",
    "    male_vaccinated_mask = (df['SEX'] == 1) & (df['P_NUMVRC']>0) \n",
    "    male_vaccinated_df = df[male_vaccinated_mask]\n",
    "    #contracted\n",
    "    contracted_population = len(male_vaccinated_df[df['HAD_CPOX'] == 1].index)\n",
    "    not_contracted_population = len(male_vaccinated_df[df['HAD_CPOX'] == 2].index)\n",
    "    ratio = contracted_population/ not_contracted_population\n",
    "    results[\"male\"] = ratio\n",
    "    \n",
    "    #female and vaccinated\n",
    "    female_vaccinated_mask = (df['SEX'] != 1) & (df['P_NUMVRC'] > 0) \n",
    "    female_vaccinated_df = df[female_vaccinated_mask]\n",
    "    #contracted\n",
    "    contracted_population = len(female_vaccinated_df[df['HAD_CPOX'] == 1].index)\n",
    "    not_contracted_population = len(female_vaccinated_df[df['HAD_CPOX'] == 2].index)\n",
    "    ratio = contracted_population/ not_contracted_population\n",
    "    results[\"female\"] = ratio\n",
    "    \n",
    "    return results\n"
   ]
  },
  {
   "cell_type": "code",
   "execution_count": 15,
   "metadata": {
    "deletable": false,
    "nbgrader": {
     "cell_type": "code",
     "checksum": "1b6a113a633c55699ae478a3a9ee9c33",
     "grade": true,
     "grade_id": "cell-c4f1714db100c865",
     "locked": true,
     "points": 1,
     "schema_version": 3,
     "solution": false
    },
    "tags": []
   },
   "outputs": [
    {
     "name": "stdout",
     "output_type": "stream",
     "text": [
      "{'male': 0.009675583380762664, 'female': 0.0077918259335489565}\n"
     ]
    },
    {
     "name": "stderr",
     "output_type": "stream",
     "text": [
      "<ipython-input-14-967cb8bf8f5e>:8: UserWarning: Boolean Series key will be reindexed to match DataFrame index.\n",
      "  contracted_population = len(male_vaccinated_df[df['HAD_CPOX'] == 1].index)\n",
      "<ipython-input-14-967cb8bf8f5e>:9: UserWarning: Boolean Series key will be reindexed to match DataFrame index.\n",
      "  not_contracted_population = len(male_vaccinated_df[df['HAD_CPOX'] == 2].index)\n",
      "<ipython-input-14-967cb8bf8f5e>:17: UserWarning: Boolean Series key will be reindexed to match DataFrame index.\n",
      "  contracted_population = len(female_vaccinated_df[df['HAD_CPOX'] == 1].index)\n",
      "<ipython-input-14-967cb8bf8f5e>:18: UserWarning: Boolean Series key will be reindexed to match DataFrame index.\n",
      "  not_contracted_population = len(female_vaccinated_df[df['HAD_CPOX'] == 2].index)\n"
     ]
    }
   ],
   "source": [
    "print(chickenpox_by_sex())"
   ]
  }
 ],
 "metadata": {
  "anaconda-cloud": {},
  "etc_active_cell": 13,
  "hide_code_all_hidden": false,
  "kernelspec": {
   "display_name": "Python 3",
   "language": "python",
   "name": "python3"
  },
  "language_info": {
   "codemirror_mode": {
    "name": "ipython",
    "version": 3
   },
   "file_extension": ".py",
   "mimetype": "text/x-python",
   "name": "python",
   "nbconvert_exporter": "python",
   "pygments_lexer": "ipython3",
   "version": "3.8.8"
  }
 },
 "nbformat": 4,
 "nbformat_minor": 4
}
