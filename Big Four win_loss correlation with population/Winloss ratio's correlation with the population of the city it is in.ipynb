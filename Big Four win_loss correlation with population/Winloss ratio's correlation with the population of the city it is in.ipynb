{
 "cells": [
  {
   "cell_type": "markdown",
   "metadata": {
    "deletable": false,
    "etc_identifier": "653a3605-5bda-4e1f-beef-04a0173d3f41",
    "nbgrader": {
     "cell_type": "markdown",
     "checksum": "60da2e57814a61cf6a81dd670bf35473",
     "grade": false,
     "grade_id": "cell-a6c4f74309fc2379",
     "locked": true,
     "schema_version": 3,
     "solution": false
    },
    "tags": []
   },
   "source": [
    "# Win/loss ratio's correlation with the population of the city it is in (Big Four data analysis)\n",
    "## Data: \n",
    "- file of metropolitan regions and associated sports teams: [assets/wikipedia_data.html](assets/wikipedia_data.html)\n",
    "- NFL (football, in [assets/nfl.csv](assets/nfl.csv))\n",
    "- MLB (baseball, in [assets/mlb.csv](assets/mlb.csv))\n",
    "- NBA (basketball, in [assets/nba.csv](assets/nba.csv))\n",
    "- NHL (hockey, in [assets/nhl.csv](assets/nhl.csv))\n",
    "\n",
    "## Goals: \n",
    "- Answer the question: **what is the win/loss ratio's correlation with the population of the city it is in?** by collapsing information from data sets\n",
    "- Explore the hypothesis that **given that an area has two sports teams in different sports, those teams will perform the same within their respective sports**\n",
    "\n"
   ]
  },
  {
   "cell_type": "markdown",
   "metadata": {
    "deletable": false,
    "nbgrader": {
     "cell_type": "markdown",
     "checksum": "369ff9ecf0ee04640574205cbc697f94",
     "grade": false,
     "grade_id": "cell-712b2b5da63d4505",
     "locked": true,
     "schema_version": 3,
     "solution": false
    },
    "tags": []
   },
   "source": [
    "## Calculating the win/loss ratio's correlation with the population of the city it is in for the **NHL** using **2018** data.\n"
   ]
  },
  {
   "cell_type": "code",
   "execution_count": 4,
   "metadata": {
    "deletable": false,
    "nbgrader": {
     "cell_type": "code",
     "checksum": "1cac4803b02502929f5b1612d48db2b5",
     "grade": false,
     "grade_id": "cell-69b16e4386e58030",
     "locked": false,
     "schema_version": 3,
     "solution": true
    }
   },
   "outputs": [],
   "source": [
    "import pandas as pd\n",
    "import numpy as np\n",
    "import scipy.stats as stats\n",
    "import re\n",
    "\n",
    "nhl_df=pd.read_csv(\"assets/nhl.csv\")\n",
    "cities=pd.read_html(\"assets/wikipedia_data.html\")[1]\n",
    "cities=cities.iloc[:-1,[0,3,5,6,7,8]]\n",
    "\n",
    "\n",
    "def nhl_correlation(): \n",
    "    #copies\n",
    "    nhl_df_copy = nhl_df.copy()\n",
    "    cities_copy = cities.copy()\n",
    "    \n",
    "    # cleaning city names and replacing missing values with NaNs\n",
    "    cities_copy['NHL'] = cities_copy['NHL'].apply(lambda x: re.sub(\"[\\(\\[].*?[\\)\\]]\", '', x))\n",
    "    cities_copy['NHL'] = cities_copy['NHL'].apply(lambda x: x if re.search(r'[a-zA-Z]+', x) else np.nan)\n",
    "    # dropping NaNs (actually keeping non-NaNs)\n",
    "    cities_copy = cities_copy[cities_copy['NHL'].notna()]\n",
    "    #  adding multiple teams as lists (0: New York, 1:Los Angeles)\n",
    "    cities_copy.at[0,'NHL']= ['Rangers', 'Islanders', 'Devils']\n",
    "    cities_copy.at[1,'NHL']= ['Kings', 'Ducks']\n",
    "    \n",
    "    # making an area-teams dict\n",
    "    area_teams_dict = pd.Series(cities_copy['NHL'].values, index = cities_copy['Metropolitan area']).to_dict()\n",
    "    # keeping only 2018 data in nhl_df\n",
    "    nhl_df_copy = nhl_df_copy[nhl_df_copy['year']==2018]\n",
    "    \n",
    "    # calculating win/ratio by searching for rows containing the teams name in nhl_df by area\n",
    "    win_ratio_dict = {}\n",
    "    for area in area_teams_dict:\n",
    "        # item is a list: area has multiple teams, must calc average win ratio\n",
    "        if isinstance(area_teams_dict[area], list):\n",
    "            sum = 0\n",
    "            for team in area_teams_dict[area]:\n",
    "                # will keep rows containing the teams name in nhl_df_copy['team'] and save dem in df\n",
    "                df = nhl_df_copy[nhl_df_copy['team'].str.contains(team)]\n",
    "                win_ratio = int(df['W']) / (int(df['W'])+ int(df['L']))\n",
    "                sum += win_ratio\n",
    "            win_ratio_dict[area] = sum / len(area_teams_dict[area])\n",
    "        # item is not a list\n",
    "        else:\n",
    "            team = area_teams_dict[area]\n",
    "            df = nhl_df_copy[nhl_df_copy['team'].str.contains(team)]\n",
    "            win_ratio = int(df['W']) / (int(df['W'])+ int(df['L']))\n",
    "            win_ratio_dict[area] = win_ratio\n",
    " \n",
    "    \n",
    "    #display(win_ratio_dict)\n",
    "    # correlation calc\n",
    "    cities_copy['Population (2016 est.)[8]'] = cities_copy['Population (2016 est.)[8]'].astype(float)\n",
    "    population_by_region = cities_copy['Population (2016 est.)[8]'].values.tolist() # pass in metropolitan area population from cities\n",
    "    win_loss_by_region = list(win_ratio_dict.values()) # pass in win/loss ratio from nhl_df in the same order as cities[\"Metropolitan area\"]\n",
    "\n",
    "    \n",
    "    assert len(population_by_region) == len(win_loss_by_region), \"Q1: Your lists must be the same length\"\n",
    "    assert len(population_by_region) == 28, \"Q1: There should be 28 teams being analysed for NHL\"\n",
    "    \n",
    "    return stats.pearsonr(population_by_region, win_loss_by_region)[0]\n",
    "\n",
    "\n",
    "    \n",
    "    "
   ]
  },
  {
   "cell_type": "code",
   "execution_count": 5,
   "metadata": {},
   "outputs": [
    {
     "name": "stdout",
     "output_type": "stream",
     "text": [
      "The win/loss ratio's correlation with the population of the city it is in for the NHL using 2018 data is 0.012\n"
     ]
    }
   ],
   "source": [
    "print(\"The win/loss ratio's correlation with the population of the city it is in for the NHL using 2018 data is {:.3f}\".format(nhl_correlation()))"
   ]
  },
  {
   "cell_type": "markdown",
   "metadata": {
    "deletable": false,
    "nbgrader": {
     "cell_type": "markdown",
     "checksum": "988912cae4968d81473f46d783e79c16",
     "grade": false,
     "grade_id": "cell-cb964e690298b71d",
     "locked": true,
     "schema_version": 3,
     "solution": false
    },
    "tags": []
   },
   "source": [
    "## Calculating the win/loss ratio's correlation with the population of the city it is in for the **NBA** using **2018** data.\n"
   ]
  },
  {
   "cell_type": "code",
   "execution_count": 6,
   "metadata": {
    "deletable": false,
    "nbgrader": {
     "cell_type": "code",
     "checksum": "9394222aafc8ccab0a228098ba0d6010",
     "grade": false,
     "grade_id": "cell-5a5f21279e3d3572",
     "locked": false,
     "schema_version": 3,
     "solution": true
    }
   },
   "outputs": [],
   "source": [
    "import pandas as pd\n",
    "import numpy as np\n",
    "import scipy.stats as stats\n",
    "import re\n",
    "\n",
    "nba_df=pd.read_csv(\"assets/nba.csv\")\n",
    "cities=pd.read_html(\"assets/wikipedia_data.html\")[1]\n",
    "cities=cities.iloc[:-1,[0,3,5,6,7,8]]\n",
    "\n",
    "\n",
    "def nba_correlation():\n",
    "    #copies\n",
    "    nba_df_copy = nba_df.copy()\n",
    "    cities_copy = cities.copy()\n",
    "    \n",
    "    # cities df clean up\n",
    "    # cleaning city names and replacing missing values with NaNs\n",
    "    cities_copy['NBA'] = cities_copy['NBA'].apply(lambda x: re.sub(\"[\\(\\[].*?[\\)\\]]\", '', x))\n",
    "    cities_copy['NBA'] = cities_copy['NBA'].apply(lambda x: x if re.search(r'[a-zA-Z]+', x) else np.nan)\n",
    "    # dropping NaNs (actually keeping non-NaNs)\n",
    "    cities_copy = cities_copy[cities_copy['NBA'].notna()]\n",
    "    #  adding multiple teams as lists (0: New York, 1:Los Angeles)\n",
    "    cities_copy.at[0,'NBA']= ['Knicks', 'Nets']\n",
    "    cities_copy.at[1,'NBA']= ['Lakers', 'Clippers']\n",
    "    #display(cities_copy)\n",
    "    \n",
    "    # making an area-teams dict\n",
    "    area_teams_dict = pd.Series(cities_copy['NBA'].values, index = cities_copy['Metropolitan area']).to_dict()\n",
    "    # keeping only 2018 data in nhl_df\n",
    "    nba_df_copy = nba_df_copy[nba_df_copy['year']==2018]\n",
    "    \n",
    "    \n",
    "    # calculating win/ratio by searching for rows containing the teams name in nhl_df by area\n",
    "    win_ratio_dict = {}\n",
    "    for area in area_teams_dict:\n",
    "        # item is a list: area has multiple teams, must calc average win ratio\n",
    "        if isinstance(area_teams_dict[area], list):\n",
    "            sum = 0\n",
    "            for team in area_teams_dict[area]:\n",
    "                # will keep rows containing the teams name in nhl_df_copy['team'] and save dem in df\n",
    "                df = nba_df_copy[nba_df_copy['team'].str.contains(team)]\n",
    "                win_ratio = int(df['W']) / (int(df['W'])+ int(df['L']))\n",
    "                sum += win_ratio\n",
    "            win_ratio_dict[area] = sum / len(area_teams_dict[area])\n",
    "        # item is not a list\n",
    "        else:\n",
    "            team = area_teams_dict[area]\n",
    "            df = nba_df_copy[nba_df_copy['team'].str.contains(team)]\n",
    "            win_ratio = int(df['W']) / (int(df['W'])+ int(df['L']))\n",
    "            win_ratio_dict[area] = win_ratio\n",
    "   \n",
    "    \n",
    "    # correlation calc\n",
    "    cities_copy['Population (2016 est.)[8]'] = cities_copy['Population (2016 est.)[8]'].astype(float)\n",
    "    population_by_region = cities_copy['Population (2016 est.)[8]'].values.tolist() # pass in metropolitan area population from cities\n",
    "    win_loss_by_region = list(win_ratio_dict.values()) # pass in win/loss ratio from nba_df in the same order as cities[\"Metropolitan area\"]\n",
    "\n",
    "    assert len(population_by_region) == len(win_loss_by_region), \"Q2: Your lists must be the same length\"\n",
    "    assert len(population_by_region) == 28, \"Q2: There should be 28 teams being analysed for NBA\"\n",
    "\n",
    "    return stats.pearsonr(population_by_region, win_loss_by_region)[0]\n",
    "    \n"
   ]
  },
  {
   "cell_type": "code",
   "execution_count": 8,
   "metadata": {},
   "outputs": [
    {
     "name": "stdout",
     "output_type": "stream",
     "text": [
      "The win/loss ratio's correlation with the population of the city it is in for the NBA using 2018 data is -0.177\n"
     ]
    }
   ],
   "source": [
    "print(\"The win/loss ratio's correlation with the population of the city it is in for the NBA using 2018 data is {:.3f}\".format(nba_correlation()))"
   ]
  },
  {
   "cell_type": "markdown",
   "metadata": {
    "deletable": false,
    "nbgrader": {
     "cell_type": "markdown",
     "checksum": "1a1a5809f675ca033086422007cd73bd",
     "grade": false,
     "grade_id": "cell-96e15e4335df78f4",
     "locked": true,
     "schema_version": 3,
     "solution": false
    },
    "tags": []
   },
   "source": [
    "## Calculating the win/loss ratio's correlation with the population of the city it is in for the **MLB** using **2018** data.\n"
   ]
  },
  {
   "cell_type": "code",
   "execution_count": 10,
   "metadata": {
    "deletable": false,
    "nbgrader": {
     "cell_type": "code",
     "checksum": "27e8c0da6c9fa0dffc10488314335b6c",
     "grade": false,
     "grade_id": "cell-33b00fc3f3467b0c",
     "locked": false,
     "schema_version": 3,
     "solution": true
    }
   },
   "outputs": [],
   "source": [
    "import pandas as pd\n",
    "import numpy as np\n",
    "import scipy.stats as stats\n",
    "import re\n",
    "\n",
    "mlb_df=pd.read_csv(\"assets/mlb.csv\")\n",
    "cities=pd.read_html(\"assets/wikipedia_data.html\")[1]\n",
    "cities=cities.iloc[:-1,[0,3,5,6,7,8]]\n",
    "\n",
    "def mlb_correlation(): \n",
    "    #copies\n",
    "    mlb_df_copy = mlb_df.copy()\n",
    "    cities_copy = cities.copy()\n",
    "    \n",
    "    # cities df clean up\n",
    "    # cleaning city names and replacing missing values with NaNs\n",
    "    cities_copy['MLB'] = cities_copy['MLB'].apply(lambda x: re.sub(\"[\\(\\[].*?[\\)\\]]\", '', x))\n",
    "    cities_copy['MLB'] = cities_copy['MLB'].apply(lambda x: x if re.search(r'[a-zA-Z]+', x) else np.nan)\n",
    "    # dropping NaNs (actually keeping non-NaNs)\n",
    "    cities_copy = cities_copy[cities_copy['MLB'].notna()]\n",
    "    #  adding multiple teams as lists (0: New York, 1:Los Angeles, 2:San Francisco Bay Area, 3: Chicago)\n",
    "    cities_copy.at[0,'MLB']= ['Yankees', 'Mets']\n",
    "    cities_copy.at[1,'MLB']= ['Dodgers', 'Angels']\n",
    "    cities_copy.at[2,'MLB']= ['Giants', 'Athletics']\n",
    "    cities_copy.at[3,'MLB']= ['Cubs', 'White Sox']\n",
    "    #display(cities_copy)\n",
    "    \n",
    "    # making an area-teams dict\n",
    "    area_teams_dict = pd.Series(cities_copy['MLB'].values, index = cities_copy['Metropolitan area']).to_dict()\n",
    "    # keeping only 2018 data in nhl_df\n",
    "    mlb_df_copy = mlb_df_copy[mlb_df_copy['year']==2018]\n",
    "    \n",
    "    \n",
    "    # calculating win/ratio by searching for rows containing the teams name in nhl_df by area\n",
    "    win_ratio_dict = {}\n",
    "    for area in area_teams_dict:\n",
    "        # item is a list: area has multiple teams, must calc average win ratio\n",
    "        if isinstance(area_teams_dict[area], list):\n",
    "            sum = 0\n",
    "            for team in area_teams_dict[area]:\n",
    "                # will keep rows containing the teams name in nhl_df_copy['team'] and save dem in df\n",
    "                df = mlb_df_copy[mlb_df_copy['team'].str.contains(team)]\n",
    "                win_ratio = int(df['W']) / (int(df['W'])+ int(df['L']))\n",
    "                sum += win_ratio\n",
    "            win_ratio_dict[area] = sum / len(area_teams_dict[area])\n",
    "        # item is not a list\n",
    "        else:\n",
    "            team = area_teams_dict[area]\n",
    "            df = mlb_df_copy[mlb_df_copy['team'].str.contains(team)]\n",
    "            win_ratio = int(df['W']) / (int(df['W'])+ int(df['L']))\n",
    "            win_ratio_dict[area] = win_ratio\n",
    "    \n",
    "    #display(win_ratio_dict)\n",
    "    \n",
    "    # correlation calc\n",
    "    cities_copy['Population (2016 est.)[8]'] = cities_copy['Population (2016 est.)[8]'].astype(float)\n",
    "    population_by_region = cities_copy['Population (2016 est.)[8]'].values.tolist() # pass in metropolitan area population from cities\n",
    "    win_loss_by_region = list(win_ratio_dict.values()) # pass in win/loss ratio from nba_df in the same order as cities[\"Metropolitan area\"]\n",
    "\n",
    "    assert len(population_by_region) == len(win_loss_by_region), \"Q3: Your lists must be the same length\"\n",
    "    assert len(population_by_region) == 26, \"Q3: There should be 26 teams being analysed for MLB\"\n",
    "    \n",
    "    return stats.pearsonr(population_by_region, win_loss_by_region)[0]\n",
    "    "
   ]
  },
  {
   "cell_type": "code",
   "execution_count": 12,
   "metadata": {},
   "outputs": [
    {
     "name": "stdout",
     "output_type": "stream",
     "text": [
      "The win/loss ratio's correlation with the population of the city it is in for the MLB using 2018 data is 0.150\n"
     ]
    }
   ],
   "source": [
    "print(\"The win/loss ratio's correlation with the population of the city it is in for the MLB using 2018 data is {:.3f}\".format(mlb_correlation()))"
   ]
  },
  {
   "cell_type": "markdown",
   "metadata": {
    "deletable": false,
    "nbgrader": {
     "cell_type": "markdown",
     "checksum": "6977a6da9ed6d8b7a0b7e37bbeda709b",
     "grade": false,
     "grade_id": "cell-793df6c04dfb126e",
     "locked": true,
     "schema_version": 3,
     "solution": false
    },
    "tags": []
   },
   "source": [
    "## Calculating the win/loss ratio's correlation with the population of the city it is in for the **NFL** using **2018** data.\n"
   ]
  },
  {
   "cell_type": "code",
   "execution_count": 13,
   "metadata": {
    "deletable": false,
    "nbgrader": {
     "cell_type": "code",
     "checksum": "c4914ad1e119278ec2bd567c52640b66",
     "grade": false,
     "grade_id": "cell-8ccebc209aeec8d9",
     "locked": false,
     "schema_version": 3,
     "solution": true
    }
   },
   "outputs": [],
   "source": [
    "import pandas as pd\n",
    "import numpy as np\n",
    "import scipy.stats as stats\n",
    "import re\n",
    "\n",
    "nfl_df=pd.read_csv(\"assets/nfl.csv\")\n",
    "cities=pd.read_html(\"assets/wikipedia_data.html\")[1]\n",
    "cities=cities.iloc[:-1,[0,3,5,6,7,8]]\n",
    "\n",
    "def nfl_correlation(): \n",
    "    #copies\n",
    "    nfl_df_copy = nfl_df.copy()\n",
    "    cities_copy = cities.copy()\n",
    "    \n",
    "    # cities df clean up\n",
    "    # cleaning city names and replacing missing values with NaNs\n",
    "    cities_copy['NFL'] = cities_copy['NFL'].apply(lambda x: re.sub(\"[\\(\\[].*?[\\)\\]]\", '', x))\n",
    "    cities_copy['NFL'] = cities_copy['NFL'].apply(lambda x: x if re.search(r'[a-zA-Z]+', x) else np.nan)\n",
    "    # dropping NaNs (actually keeping non-NaNs)\n",
    "    cities_copy = cities_copy[cities_copy['NFL'].notna()]\n",
    "    #  adding multiple teams as lists (0: New York, 1:Los Angeles, 2:San Francisco Bay Area)\n",
    "    cities_copy.at[0,'NFL']= ['Giants', 'Jets']\n",
    "    cities_copy.at[1,'NFL']= ['Rams', 'Chargers']\n",
    "    cities_copy.at[2,'NFL']= ['49ers', 'Raiders']\n",
    "    #display(cities_copy)\n",
    "    \n",
    "    # making an area-teams dict\n",
    "    area_teams_dict = pd.Series(cities_copy['NFL'].values, index = cities_copy['Metropolitan area']).to_dict()\n",
    "    # keeping only 2018 data in nhl_df\n",
    "    nfl_df_copy = nfl_df_copy[nfl_df_copy['year']==2018]\n",
    "    \n",
    "    \n",
    "    # calculating win/ratio by searching for rows containing the teams name in nhl_df by area\n",
    "    win_ratio_dict = {}\n",
    "    for area in area_teams_dict:\n",
    "        # item is a list: area has multiple teams, must calc average win ratio\n",
    "        if isinstance(area_teams_dict[area], list):\n",
    "            sum = 0\n",
    "            for team in area_teams_dict[area]:\n",
    "                # will keep rows containing the teams name in nhl_df_copy['team'] and save dem in df\n",
    "                df = nfl_df_copy[nfl_df_copy['team'].str.contains(team)]\n",
    "                win_ratio = int(df['W']) / (int(df['W'])+ int(df['L']))\n",
    "                sum += win_ratio\n",
    "            win_ratio_dict[area] = sum / len(area_teams_dict[area])\n",
    "        # item is not a list\n",
    "        else:\n",
    "            team = area_teams_dict[area]\n",
    "            df = nfl_df_copy[nfl_df_copy['team'].str.contains(team)]\n",
    "            win_ratio = int(df['W']) / (int(df['W'])+ int(df['L']))\n",
    "            win_ratio_dict[area] = win_ratio\n",
    "    \n",
    "    #display(win_ratio_dict)\n",
    "    \n",
    "    # correlation calc\n",
    "    cities_copy['Population (2016 est.)[8]'] = cities_copy['Population (2016 est.)[8]'].astype(float)\n",
    "    population_by_region = cities_copy['Population (2016 est.)[8]'].values.tolist() # pass in metropolitan area population from cities\n",
    "    win_loss_by_region = list(win_ratio_dict.values()) # pass in win/loss ratio from nba_df in the same order as cities[\"Metropolitan area\"]\n",
    "    \n",
    "    assert len(population_by_region) == len(win_loss_by_region), \"Q4: Your lists must be the same length\"\n",
    "    assert len(population_by_region) == 29, \"Q4: There should be 29 teams being analysed for NFL\"\n",
    "\n",
    "    return stats.pearsonr(population_by_region, win_loss_by_region)[0]\n",
    "\n",
    "    "
   ]
  },
  {
   "cell_type": "code",
   "execution_count": 14,
   "metadata": {},
   "outputs": [
    {
     "name": "stdout",
     "output_type": "stream",
     "text": [
      "The win/loss ratio's correlation with the population of the city it is in for the MLB using 2018 data is 0.005\n"
     ]
    }
   ],
   "source": [
    "print(\"The win/loss ratio's correlation with the population of the city it is in for the MLB using 2018 data is {:.3f}\".format(nfl_correlation()))"
   ]
  },
  {
   "cell_type": "markdown",
   "metadata": {
    "deletable": false,
    "nbgrader": {
     "cell_type": "markdown",
     "checksum": "b02d5cd3273f561e4ae939bb2a41740c",
     "grade": false,
     "grade_id": "cell-97b49d8639e908c4",
     "locked": true,
     "schema_version": 3,
     "solution": false
    },
    "tags": []
   },
   "source": [
    "## Exploring the hypothesis that **given that an area has two sports teams in different sports, those teams will perform the same within their respective sports**\n",
    "- The analysis is done with a series of paired t-test between all pairs of sports\n",
    "- Cities with more than one team are collapsed together\n",
    "- Cities without sports teams are not considered\n",
    "- Various cities' names had to ve \"cleaned\" in order to automate calcs."
   ]
  },
  {
   "cell_type": "code",
   "execution_count": 15,
   "metadata": {
    "deletable": false,
    "nbgrader": {
     "cell_type": "code",
     "checksum": "6d78c961eb66f8d8c81f06d33ae8f393",
     "grade": false,
     "grade_id": "cell-92f25f44b8d1179f",
     "locked": false,
     "schema_version": 3,
     "solution": true
    }
   },
   "outputs": [],
   "source": [
    "import pandas as pd\n",
    "import numpy as np\n",
    "import scipy.stats as stats\n",
    "import re\n",
    "\n",
    "mlb_df=pd.read_csv(\"assets/mlb.csv\")\n",
    "nhl_df=pd.read_csv(\"assets/nhl.csv\")\n",
    "nba_df=pd.read_csv(\"assets/nba.csv\")\n",
    "nfl_df=pd.read_csv(\"assets/nfl.csv\")\n",
    "cities=pd.read_html(\"assets/wikipedia_data.html\")[1]\n",
    "cities=cities.iloc[:-1,[0,3,5,6,7,8]]\n",
    "\n",
    "\n",
    "def calc_win_ratio(sports_list, df_list, cities_copy):\n",
    "    win_ratio_dfs_list = [] # where newly calculated dfs will be stored\n",
    "    for sport, df in zip(sports_list, df_list):    \n",
    "        # making an area-teams dict\n",
    "        area_teams_dict = pd.Series(cities_copy[sport].values, index = cities_copy['Metropolitan area']).to_dict()\n",
    "        # keeping only 2018 data in df\n",
    "        df = df[df['year']==2018]\n",
    "        \n",
    "        # calculating win/ratio by searching for rows containing the teams name in df by area\n",
    "        win_ratio_dict = {}\n",
    "        for area in area_teams_dict:\n",
    "            # item is a list: area has multiple teams, must calc average win ratio\n",
    "            if isinstance(area_teams_dict[area], list):\n",
    "                sum = 0\n",
    "                for team in area_teams_dict[area]:\n",
    "                    # will keep rows containing the teams name in nhl_df_copy['team'] and save dem in df\n",
    "                    buffer_df = df[df['team'].str.contains(team)]\n",
    "                    win_ratio = int(buffer_df['W']) / (int(buffer_df['W'])+ int(buffer_df['L']))\n",
    "                    sum += win_ratio\n",
    "                win_ratio_dict[area] = sum / len(area_teams_dict[area])\n",
    "            \n",
    "            # item is not a list, not nan\n",
    "            elif not pd.isnull(area_teams_dict[area]):\n",
    "                team = area_teams_dict[area]\n",
    "                buffer_df = df[df['team'].str.contains(team)]\n",
    "                win_ratio = int(buffer_df['W']) / (int(buffer_df['W'])+ int(buffer_df['L']))\n",
    "                win_ratio_dict[area] = win_ratio\n",
    "       \n",
    "        # adding dict to win_ratio_dfs_list as df\n",
    "        new_df = pd.DataFrame(list(win_ratio_dict.values()), index = list(win_ratio_dict.keys()), columns = [sport + ' win-loss ratio'])\n",
    "        win_ratio_dfs_list.append(new_df)\n",
    "\n",
    "    return win_ratio_dfs_list\n",
    "\n",
    "def clean_cities_df(sports, cities_copy):\n",
    "    for s in sports:\n",
    "        # cities df clean up\n",
    "        # cleaning city names and replacing missing values with NaNs\n",
    "        cities_copy[s] = cities_copy[s].apply(lambda x: re.sub(\"[\\(\\[].*?[\\)\\]]\", '', x))\n",
    "        cities_copy[s] = cities_copy[s].apply(lambda x: x if re.search(r'[a-zA-Z]+', x) else np.nan)\n",
    "    \n",
    "    #  adding multiple teams as lists (0: New York, 1:Los Angeles, 2:San Francisco Bay Area)\n",
    "    cities_copy.at[0,'NFL']= ['Giants', 'Jets']\n",
    "    cities_copy.at[1,'NFL']= ['Rams', 'Chargers']\n",
    "    cities_copy.at[2,'NFL']= ['49ers', 'Raiders']\n",
    "    cities_copy.at[0,'MLB']= ['Yankees', 'Mets']\n",
    "    cities_copy.at[1,'MLB']= ['Dodgers', 'Angels']\n",
    "    cities_copy.at[2,'MLB']= ['Giants', 'Athletics']\n",
    "    cities_copy.at[3,'MLB']= ['Cubs', 'White Sox']\n",
    "    cities_copy.at[0,'NBA']= ['Knicks', 'Nets']\n",
    "    cities_copy.at[1,'NBA']= ['Lakers', 'Clippers']\n",
    "    cities_copy.at[0,'NHL']= ['Rangers', 'Islanders', 'Devils']\n",
    "    cities_copy.at[1,'NHL']= ['Kings', 'Ducks']\n",
    "    \n",
    "    return cities_copy\n",
    "    \n",
    "\n",
    "\n",
    "\n",
    "def sports_team_performance():\n",
    "    #copies\n",
    "    nba_df_copy = nba_df.copy()\n",
    "    nhl_df_copy = nhl_df.copy()\n",
    "    mlb_df_copy = mlb_df.copy()\n",
    "    nfl_df_copy = nfl_df.copy()\n",
    "    cities_copy = cities.copy()\n",
    "    \n",
    "    # Note: p_values is a full dataframe, so df.loc[\"NFL\",\"NBA\"] should be the same as df.loc[\"NBA\",\"NFL\"] and\n",
    "    # df.loc[\"NFL\",\"NFL\"] should return np.nan\n",
    "    sports = ['NFL', 'NBA', 'NHL', 'MLB']\n",
    "    df_list = [nfl_df_copy, nba_df_copy, nhl_df_copy, mlb_df_copy]\n",
    "    cities_copy = clean_cities_df(sports, cities_copy)\n",
    "    win_ratio_df_list = calc_win_ratio(sports, df_list, cities_copy)\n",
    "    p_values = pd.DataFrame({k:np.nan for k in sports}, index=sports)\n",
    "    \n",
    "    \n",
    "    for sport_1, win_ratio_df_1 in zip(sports, win_ratio_df_list):\n",
    "        for sport_2, win_ratio_df_2 in zip(sports, win_ratio_df_list):\n",
    "            if sport_1 != sport_2:\n",
    "                inner_merged = pd.merge(win_ratio_df_1, win_ratio_df_2, left_index=True, right_index=True)\n",
    "                p_value = stats.ttest_rel(inner_merged[sport_1 + ' win-loss ratio'], inner_merged[sport_2 + ' win-loss ratio'])[1]\n",
    "                p_values.loc[sport_1,sport_2] = p_value\n",
    "                #display(sport_1 + \" and \" + sport_2)\n",
    "                #display(p_value)\n",
    "    \n",
    "    #display(p_values)\n",
    "    assert abs(p_values.loc[\"NBA\", \"NHL\"] - 0.02) <= 1e-2, \"The NBA-NHL p-value should be around 0.02\"\n",
    "    assert abs(p_values.loc[\"MLB\", \"NFL\"] - 0.80) <= 1e-2, \"The MLB-NFL p-value should be around 0.80\"\n",
    "    return p_values\n",
    "\n"
   ]
  },
  {
   "cell_type": "code",
   "execution_count": 16,
   "metadata": {},
   "outputs": [
    {
     "data": {
      "text/html": [
       "<div>\n",
       "<style scoped>\n",
       "    .dataframe tbody tr th:only-of-type {\n",
       "        vertical-align: middle;\n",
       "    }\n",
       "\n",
       "    .dataframe tbody tr th {\n",
       "        vertical-align: top;\n",
       "    }\n",
       "\n",
       "    .dataframe thead th {\n",
       "        text-align: right;\n",
       "    }\n",
       "</style>\n",
       "<table border=\"1\" class=\"dataframe\">\n",
       "  <thead>\n",
       "    <tr style=\"text-align: right;\">\n",
       "      <th></th>\n",
       "      <th>NFL</th>\n",
       "      <th>NBA</th>\n",
       "      <th>NHL</th>\n",
       "      <th>MLB</th>\n",
       "    </tr>\n",
       "  </thead>\n",
       "  <tbody>\n",
       "    <tr>\n",
       "      <th>NFL</th>\n",
       "      <td>NaN</td>\n",
       "      <td>0.941792</td>\n",
       "      <td>0.030883</td>\n",
       "      <td>0.802069</td>\n",
       "    </tr>\n",
       "    <tr>\n",
       "      <th>NBA</th>\n",
       "      <td>0.941792</td>\n",
       "      <td>NaN</td>\n",
       "      <td>0.022297</td>\n",
       "      <td>0.950540</td>\n",
       "    </tr>\n",
       "    <tr>\n",
       "      <th>NHL</th>\n",
       "      <td>0.030883</td>\n",
       "      <td>0.022297</td>\n",
       "      <td>NaN</td>\n",
       "      <td>0.000708</td>\n",
       "    </tr>\n",
       "    <tr>\n",
       "      <th>MLB</th>\n",
       "      <td>0.802069</td>\n",
       "      <td>0.950540</td>\n",
       "      <td>0.000708</td>\n",
       "      <td>NaN</td>\n",
       "    </tr>\n",
       "  </tbody>\n",
       "</table>\n",
       "</div>"
      ],
      "text/plain": [
       "          NFL       NBA       NHL       MLB\n",
       "NFL       NaN  0.941792  0.030883  0.802069\n",
       "NBA  0.941792       NaN  0.022297  0.950540\n",
       "NHL  0.030883  0.022297       NaN  0.000708\n",
       "MLB  0.802069  0.950540  0.000708       NaN"
      ]
     },
     "execution_count": 16,
     "metadata": {},
     "output_type": "execute_result"
    }
   ],
   "source": [
    "sports_team_performance()"
   ]
  },
  {
   "cell_type": "code",
   "execution_count": null,
   "metadata": {},
   "outputs": [],
   "source": []
  }
 ],
 "metadata": {
  "kernelspec": {
   "display_name": "Python 3",
   "language": "python",
   "name": "python3"
  },
  "language_info": {
   "codemirror_mode": {
    "name": "ipython",
    "version": 3
   },
   "file_extension": ".py",
   "mimetype": "text/x-python",
   "name": "python",
   "nbconvert_exporter": "python",
   "pygments_lexer": "ipython3",
   "version": "3.8.8"
  }
 },
 "nbformat": 4,
 "nbformat_minor": 4
}
